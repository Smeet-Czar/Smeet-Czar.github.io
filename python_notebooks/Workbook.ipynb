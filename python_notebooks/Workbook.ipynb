{
 "cells": [
  {
   "cell_type": "markdown",
   "metadata": {},
   "source": []
  },
  {
   "cell_type": "markdown",
   "metadata": {},
   "source": []
  },
  {
   "cell_type": "code",
   "execution_count": null,
   "metadata": {},
   "outputs": [],
   "source": [
    "import pandas as pd\n",
    "import altair as alt\n",
    "alt.data_transformers.disable_max_rows()\n",
    "\n",
    "url = \"https://raw.githubusercontent.com/UIUC-iSchool-DataViz/is445_data/main/building_inventory.csv\"\n",
    "data = pd.read_csv(url)"
   ]
  },
  {
   "cell_type": "code",
   "execution_count": null,
   "metadata": {},
   "outputs": [],
   "source": [
    "data.columns"
   ]
  },
  {
   "cell_type": "code",
   "execution_count": null,
   "metadata": {},
   "outputs": [],
   "source": [
    "# Filter out missing data\n",
    "data = data.dropna(subset=['Usage Description', 'City'])"
   ]
  },
  {
   "cell_type": "code",
   "execution_count": null,
   "metadata": {},
   "outputs": [],
   "source": [
    "city_dropdown = alt.binding_select(options=sorted(data['City'].unique()), name=\"City: \")\n",
    "city_selection = alt.selection_point(fields=['City'], bind=city_dropdown, name=\"Select City\")"
   ]
  },
  {
   "cell_type": "code",
   "execution_count": null,
   "metadata": {},
   "outputs": [],
   "source": [
    "usage_chart = alt.Chart(data).mark_bar().encode(\n",
    "    x=alt.X('Usage Description:N', title='Building Usage', sort='-y'),\n",
    "    y=alt.Y('count():Q', title='Number of Buildings'),\n",
    "    color=alt.Color('Usage Description:N', legend=None),\n",
    "    tooltip=[\n",
    "        alt.Tooltip('Usage Description:N', title='Building Usage'),\n",
    "        alt.Tooltip('count():Q', title='Number of Buildings')\n",
    "    ]\n",
    ").add_params(\n",
    "    city_selection  \n",
    ").transform_filter(\n",
    "    city_selection  \n",
    ").properties(\n",
    "    title='Distribution of Building Usages by City',\n",
    "    width=800,\n",
    "    height=500\n",
    ")\n",
    "\n",
    "usage_chart"
   ]
  },
  {
   "cell_type": "markdown",
   "metadata": {},
   "source": [
    "## Second visualization"
   ]
  },
  {
   "cell_type": "code",
   "execution_count": null,
   "metadata": {},
   "outputs": [],
   "source": [
    "data['Year Constructed'] = pd.to_numeric(data['Year Constructed'], errors='coerce')\n",
    "data = data.dropna(subset=['Year Constructed', 'City'])"
   ]
  },
  {
   "cell_type": "code",
   "execution_count": null,
   "metadata": {},
   "outputs": [],
   "source": [
    "year_slider = alt.param(\n",
    "    name=\"YearFilter\",\n",
    "    bind=alt.binding_range(\n",
    "        min=int(data['Year Constructed'].min()), \n",
    "        max=int(data['Year Constructed'].max()), \n",
    "        step=1,\n",
    "        name=\"Year Constructed: \"\n",
    "    ),\n",
    "    value=int(data['Year Constructed'].median())  # Default slider value\n",
    ")\n",
    "\n"
   ]
  },
  {
   "cell_type": "code",
   "execution_count": null,
   "metadata": {},
   "outputs": [],
   "source": [
    "interactive_bar = alt.Chart(data).mark_bar().encode(\n",
    "    x=alt.X('City:N', title='City', sort='-y'),\n",
    "    y=alt.Y('BuildingCount:Q', title='Number of Buildings'),  # Use aggregated count explicitly\n",
    "    color=alt.Color('City:N', legend=None),\n",
    "    tooltip=[\n",
    "        alt.Tooltip('City:N', title='City'),\n",
    "        alt.Tooltip('BuildingCount:Q', title='Number of Buildings')\n",
    "    ]\n",
    ").transform_filter(\n",
    "    f\"datum['Year Constructed'] <= {year_slider.name}\"  # Filter data dynamically by the year slider\n",
    ").transform_aggregate(\n",
    "    BuildingCount='count()',  # Aggregate data to compute the number of buildings\n",
    "    groupby=['City']\n",
    ").transform_window(\n",
    "    rank='rank(BuildingCount)',  # Rank cities based on building count\n",
    "    sort=[alt.SortField('BuildingCount', order='descending')]\n",
    ").transform_filter(\n",
    "    'datum.rank <= 30'  # Filter to include only the top 30 cities\n",
    ").add_params(\n",
    "    year_slider\n",
    ").properties(\n",
    "    title='Number of Buildings by Top 30 Cities (Filtered by Year Constructed)',\n",
    "    width=800,\n",
    "    height=500\n",
    ")"
   ]
  },
  {
   "cell_type": "code",
   "execution_count": null,
   "metadata": {},
   "outputs": [],
   "source": [
    "interactive_bar"
   ]
  }
 ],
 "metadata": {
  "kernelspec": {
   "display_name": "Python 3 (ipykernel)",
   "language": "python",
   "name": "python3"
  },
  "language_info": {
   "codemirror_mode": {
    "name": "ipython",
    "version": 3
   },
   "file_extension": ".py",
   "mimetype": "text/x-python",
   "name": "python",
   "nbconvert_exporter": "python",
   "pygments_lexer": "ipython3",
   "version": "3.12.4"
  }
 },
 "nbformat": 4,
 "nbformat_minor": 4
}
